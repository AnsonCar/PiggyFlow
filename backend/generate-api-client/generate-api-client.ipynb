{
 "cells": [
  {
   "cell_type": "code",
   "execution_count": 1,
   "metadata": {},
   "outputs": [],
   "source": [
    "from tools.data_flow import get_openapi_json, output_file, get_schemas, get_api\n",
    "data_dict = get_openapi_json(\"http://127.0.0.1:8000/api/openapi.json\")\n",
    "schemas = get_schemas(data_schemas := data_dict['components']['schemas'])\n",
    "api = get_api(data_paths := data_dict['paths'])\n",
    "output_file('db_api.ts', api + schemas)"
   ]
  }
 ],
 "metadata": {
  "kernelspec": {
   "display_name": "Python 3",
   "language": "python",
   "name": "python3"
  },
  "language_info": {
   "codemirror_mode": {
    "name": "ipython",
    "version": 3
   },
   "file_extension": ".py",
   "mimetype": "text/x-python",
   "name": "python",
   "nbconvert_exporter": "python",
   "pygments_lexer": "ipython3",
   "version": "3.10.12"
  }
 },
 "nbformat": 4,
 "nbformat_minor": 2
}
