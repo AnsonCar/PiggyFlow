{
 "cells": [
  {
   "cell_type": "code",
   "execution_count": 3,
   "metadata": {},
   "outputs": [],
   "source": [
    "from tools import get_openapi_json, output_file, schemas2type, server2client\n",
    "data_dict = get_openapi_json(\"http://127.0.0.1:8000/api/openapi.json\")\n",
    "schemas = schemas2type(data_schemas := data_dict['components']['schemas'])\n",
    "api = server2client(data_paths := data_dict['paths'])\n",
    "output_file('db_api.ts', api)\n",
    "output_file('api_types.d.ts', schemas)"
   ]
  },
  {
   "cell_type": "code",
   "execution_count": 114,
   "metadata": {},
   "outputs": [
    {
     "data": {
      "text/plain": [
       "'\\nexport function getCookie(cname: string) {\\n  let name = cname + \"=\";\\n  let decodedCookie = decodeURIComponent(document.cookie);\\n  let ca = decodedCookie.split(\\';\\');\\n  for (let i = 0; i < ca.length; i++) {\\n    let c = ca[i];\\n    while (c.charAt(0) == \\' \\') {\\n      c = c.substring(1);\\n    }\\n    if (c.indexOf(name) == 0) {\\n      return c.substring(name.length, c.length);\\n    }\\n  }\\n  return \"\";\\n}\\n\\nexport async function api(url: string, options: RequestInit | undefined) {\\n  // 取得 url 資源 和 選項\\n  const BasisApiURL = \"http://localhost:8000\"\\n  try {\\n      // 請求\\n      const res = await fetch(`${BasisApiURL}${url}`, options)\\n      const data = await res.json()\\n      return data\\n  } catch (error) {\\n      // 如果 請求失敗（Server 死咗 ）\\n      return {\\n          \"error\": \"An error occurred.\",\\n          \"code\": 500,\\n          \"message\": \"Server Error.\"\\n      }\\n  }\\n}\\n\\nexport async function apiFile(url: string, options: RequestInit | undefined) {\\n  // 取得 url 資源 和 選項\\n  const BasisApiURL = \"http://localhost:8000\"\\n  try {\\n      // 請求\\n      const res = await fetch(`${BasisApiURL}/api/${url}`, options)\\n      const blob = await res.blob(); // 提取实际的文件内容\\n      return blob;\\n  } catch (error) {\\n      // 如果 請求失敗（Server 死咗 ）\\n      return {\\n          \"error\": \"An error occurred.\",\\n          \"code\": 500,\\n          \"message\": \"Server Error.\"\\n      }\\n  }\\n}\\n\\nexport function getHeaders() {\\n    return {\\n        Accept: \"application/json\",\\n        \"Content-Type\": \"application/json\",\\n        Authorization: `Bearer ${getCookie(\"token\")}`,\\n    };\\n}\\n\\nexport async function obtainToken(data: TokenObtainPairInputSchema ): Promise<TokenObtainPairOutputSchema> {\\n  const url = \"/api/token/pair\";\\n  const options = {\\n    method: \"POST\",\\n    headers: getHeaders(),\\n\\t\\tbody: JSON.stringify(data)\\n  };\\n  return await api(url, options);\\n}\\n\\nexport async function refreshToken(data: TokenRefreshInputSchema ): Promise<TokenRefreshOutputSchema> {\\n  const url = \"/api/token/refresh\";\\n  const options = {\\n    method: \"POST\",\\n    headers: getHeaders(),\\n\\t\\tbody: JSON.stringify(data)\\n  };\\n  return await api(url, options);\\n}\\n\\nexport async function verifyToken(data: TokenVerifyInputSchema ): Promise<Schema> {\\n  const url = \"/api/token/verify\";\\n  const options = {\\n    method: \"POST\",\\n    headers: getHeaders(),\\n\\t\\tbody: JSON.stringify(data)\\n  };\\n  return await api(url, options);\\n}\\n\\nexport async function getUsers(): Promise<UserList> {\\n  const url = \"/api/user\";\\n  const options = {\\n    method: \"GET\",\\n    headers: getHeaders(),\\n  };\\n  return await api(url, options);\\n}\\n\\nexport async function createUser(data: UserIn ) {\\n  const url = \"/api/user\";\\n  const options = {\\n    method: \"POST\",\\n    headers: getHeaders(),\\n\\t\\tbody: JSON.stringify(data)\\n  };\\n  return await api(url, options);\\n}\\n\\nexport async function getUser(uuid : string): Promise<UserOut> {\\n  const url = \"/api/user/\" + uuid ;\\n  const options = {\\n    method: \"GET\",\\n    headers: getHeaders(),\\n  };\\n  return await api(url, options);\\n}\\n\\nexport async function updateUser(data: UserPut  ,uuid : string) {\\n  const url = \"/api/user/\" + uuid ;\\n  const options = {\\n    method: \"PUT\",\\n    headers: getHeaders(),\\n\\t\\tbody: JSON.stringify(data)\\n  };\\n  return await api(url, options);\\n}\\n\\nexport async function deleteUser(uuid : string) {\\n  const url = \"/api/user/\" + uuid ;\\n  const options = {\\n    method: \"DELETE\",\\n    headers: getHeaders(),\\n  };\\n  return await api(url, options);\\n}\\n\\nexport async function updateUserPassword(data: UserPutPassword  ,uuid : string) {\\n  const url = \"/api/user/\" + uuid /password;\\n  const options = {\\n    method: \"PATCH\",\\n    headers: getHeaders(),\\n\\t\\tbody: JSON.stringify(data)\\n  };\\n  return await api(url, options);\\n}\\n\\nexport async function createUserGroup(data: UserGroup  ,uuid : string) {\\n  const url = \"/api/user/\" + uuid /group;\\n  const options = {\\n    method: \"POST\",\\n    headers: getHeaders(),\\n\\t\\tbody: JSON.stringify(data)\\n  };\\n  return await api(url, options);\\n}\\n\\nexport async function deleteUserGroup(data: UserGroup  ,uuid : string) {\\n  const url = \"/api/user/\" + uuid /group;\\n  const options = {\\n    method: \"DELETE\",\\n    headers: getHeaders(),\\n\\t\\tbody: JSON.stringify(data)\\n  };\\n  return await api(url, options);\\n}\\n\\nexport async function getGroups(): Promise<GroupList> {\\n  const url = \"/api/group\";\\n  const options = {\\n    method: \"GET\",\\n    headers: getHeaders(),\\n  };\\n  return await api(url, options);\\n}\\n\\nexport async function createGroup(data: GroupIn ) {\\n  const url = \"/api/group\";\\n  const options = {\\n    method: \"POST\",\\n    headers: getHeaders(),\\n\\t\\tbody: JSON.stringify(data)\\n  };\\n  return await api(url, options);\\n}\\n\\nexport async function getGroup(uuid : number): Promise<GroupOut> {\\n  const url = \"/api/group/\" + uuid ;\\n  const options = {\\n    method: \"GET\",\\n    headers: getHeaders(),\\n  };\\n  return await api(url, options);\\n}\\n\\nexport async function updateGroup(data: GroupPut  ,uuid : number) {\\n  const url = \"/api/group/\" + uuid ;\\n  const options = {\\n    method: \"PUT\",\\n    headers: getHeaders(),\\n\\t\\tbody: JSON.stringify(data)\\n  };\\n  return await api(url, options);\\n}\\n\\nexport async function deleteGroup(uuid : number) {\\n  const url = \"/api/group/\" + uuid ;\\n  const options = {\\n    method: \"DELETE\",\\n    headers: getHeaders(),\\n  };\\n  return await api(url, options);\\n}\\n\\nexport async function getTransactions(): Promise<TransactionList> {\\n  const url = \"/api/transaction\";\\n  const options = {\\n    method: \"GET\",\\n    headers: getHeaders(),\\n  };\\n  return await api(url, options);\\n}\\n\\nexport async function createTransaction(data: TransactionIn ) {\\n  const url = \"/api/transaction\";\\n  const options = {\\n    method: \"POST\",\\n    headers: getHeaders(),\\n\\t\\tbody: JSON.stringify(data)\\n  };\\n  return await api(url, options);\\n}\\n\\nexport async function getTransaction(uuid : string): Promise<TransactionOut> {\\n  const url = \"/api/transaction/\" + uuid ;\\n  const options = {\\n    method: \"GET\",\\n    headers: getHeaders(),\\n  };\\n  return await api(url, options);\\n}\\n\\nexport async function updateTransaction(data: TransactionIn  ,uuid : string) {\\n  const url = \"/api/transaction/\" + uuid ;\\n  const options = {\\n    method: \"PUT\",\\n    headers: getHeaders(),\\n\\t\\tbody: JSON.stringify(data)\\n  };\\n  return await api(url, options);\\n}\\n\\nexport async function deleteTransaction(uuid : string) {\\n  const url = \"/api/transaction/\" + uuid ;\\n  const options = {\\n    method: \"DELETE\",\\n    headers: getHeaders(),\\n  };\\n  return await api(url, options);\\n}\\n\\nexport async function downloadTransactionCsv() {\\n  const url = \"/api/transaction/download/csv\";\\n  const options = {\\n    method: \"POST\",\\n    headers: getHeaders(),\\n  };\\n  return await apiFile(url, options);\\n}\\n\\nexport async function getTodos(): Promise<ToDoList> {\\n  const url = \"/api/todo\";\\n  const options = {\\n    method: \"GET\",\\n    headers: getHeaders(),\\n  };\\n  return await api(url, options);\\n}\\n\\nexport async function createTodo(data: ToDoIn ) {\\n  const url = \"/api/todo\";\\n  const options = {\\n    method: \"POST\",\\n    headers: getHeaders(),\\n\\t\\tbody: JSON.stringify(data)\\n  };\\n  return await api(url, options);\\n}\\n\\nexport async function getTodo(uuid : string): Promise<ToDoOut> {\\n  const url = \"/api/todo/\" + uuid ;\\n  const options = {\\n    method: \"GET\",\\n    headers: getHeaders(),\\n  };\\n  return await api(url, options);\\n}\\n\\nexport async function updateTodo(data: ToDoIn  ,uuid : string) {\\n  const url = \"/api/todo/\" + uuid ;\\n  const options = {\\n    method: \"PUT\",\\n    headers: getHeaders(),\\n\\t\\tbody: JSON.stringify(data)\\n  };\\n  return await api(url, options);\\n}\\n\\nexport async function deleteTodo(uuid : string) {\\n  const url = \"/api/todo/\" + uuid ;\\n  const options = {\\n    method: \"DELETE\",\\n    headers: getHeaders(),\\n  };\\n  return await api(url, options);\\n}\\n\\nexport async function updateTodoDone(data: ToDoDone  ,uuid : string) {\\n  const url = \"/api/todo/\" + uuid /done;\\n  const options = {\\n    method: \"PATCH\",\\n    headers: getHeaders(),\\n\\t\\tbody: JSON.stringify(data)\\n  };\\n  return await api(url, options);\\n}\\n\\nexport async function downloadTodoCsv() {\\n  const url = \"/api/todo/download/csv\";\\n  const options = {\\n    method: \"POST\",\\n    headers: getHeaders(),\\n  };\\n  return await apiFile(url, options);\\n}\\n'"
      ]
     },
     "execution_count": 114,
     "metadata": {},
     "output_type": "execute_result"
    }
   ],
   "source": [
    "from tools.template import temp_header, temp_api\n",
    "\n",
    "\n",
    "def server2client(data_paths: dict) -> str:\n",
    "    api = \"\"\n",
    "    for api_path, information in data_paths.items():\n",
    "        # path name & parameters\n",
    "        if len(api_path.split('{')) == 1:\n",
    "            api_path = '\"' + api_path + '\"'\n",
    "        else:\n",
    "            text = ' + ' + \\\n",
    "                ' + '.join(api_path.split('{')[1:]).replace('}', ' ')\n",
    "            api_path = '\"' + api_path.split('{')[0] + '\"' + text\n",
    "            \n",
    "        # mathod & all data\n",
    "        for method, api_data in information.items():\n",
    "            # fucntion name (use summary)\n",
    "            api_name = (api_data['summary']).split()\n",
    "            api_name = api_name[0].lower() + ''.join(api_name[1:])\n",
    "            # parameters\n",
    "            api_parameters = ','.join(\n",
    "                [f'{parameter[\"name\"]} : {parameter[\"schema\"][\"type\"]}' for parameter in api_data['parameters']])\n",
    "            api_parameters = api_parameters.replace(\n",
    "                'array', '[]').replace('integer', 'number')\n",
    "            # request body & parameters & path name (fucntion input...)\n",
    "            api_body = ''\n",
    "            if api_data.get('requestBody'):\n",
    "                api_schemas = api_data['requestBody']['content']['application/json']['schema']['$ref'].split(\n",
    "                    '/')[-1]\n",
    "                api_body = '\\n\\t\\tbody: JSON.stringify(data)' if len(\n",
    "                    api_schemas) != 0 else ''\n",
    "                api_parameters = (' ,' if len(api_parameters)\n",
    "                                  else '') + api_parameters\n",
    "                api_name += f'(data: {api_schemas} {api_parameters})'\n",
    "            else:\n",
    "                api_name += f'({api_parameters})'\n",
    "            # responses type\n",
    "            if api_data['responses']['200'].get('content'):\n",
    "                api_responses = api_data['responses']['200']['content']['application/json']['schema']['$ref'].split(\n",
    "                    '/')[-1]\n",
    "                # for typescript\n",
    "                api_name += f': Promise<{api_responses}>'\n",
    "            # download file use apiFile fucntion (use path name to check)\n",
    "            api += (temp_api % (api_name, api_path, method.upper(), api_body,\n",
    "                    'api' if 'download' not in api_name else 'apiFile'))\n",
    "    return temp_header+api\n",
    "api = server2client(data_paths := data_dict['paths'])\n",
    "api\n"
   ]
  },
  {
   "cell_type": "code",
   "execution_count": 47,
   "metadata": {},
   "outputs": [
    {
     "name": "stdout",
     "output_type": "stream",
     "text": [
      "'/api/token/pair'\n",
      "'/api/token/refresh'\n",
      "'/api/token/verify'\n",
      "'/api/user'\n",
      "'/api/user/' + uuid\n",
      "'/api/user/' + uuid + '/password'\n",
      "'/api/user/' + uuid + '/group'\n",
      "'/api/group'\n",
      "'/api/group/' + uuid\n",
      "'/api/transaction'\n",
      "'/api/transaction/' + uuid\n",
      "'/api/transaction/download/csv'\n",
      "'/api/todo'\n",
      "'/api/todo/' + uuid\n",
      "'/api/todo/' + uuid + '/done'\n",
      "'/api/todo/download/csv'\n"
     ]
    }
   ],
   "source": [
    "from tools.template import temp_header, temp_api\n",
    "\n",
    "\n",
    "def get_api_path(api_path: str) -> str:\n",
    "    path_parts: list = [\"'\"]\n",
    "    path_list: list = api_path.split('/')[1:]\n",
    "    path_list_len: int = len(path_list)\n",
    "    for index, path_item in enumerate(path_list):\n",
    "        if path_item.startswith(\"{\") and path_item.endswith(\"}\"):\n",
    "            path_item = f\"' + {path_item[1:-1]}\" + (\" + '\" if index + 1 < path_list_len else \"\")\n",
    "            path_parts.append(path_item)\n",
    "        else:\n",
    "            path_parts.append(path_item if index + 1 < path_list_len else path_item + \"'\")\n",
    "    return '/'.join(path_parts)\n",
    "\n",
    "\n",
    "def get_api_parameters(parameters):\n",
    "    return (','.join([f'{parameter[\"name\"]} : {parameter[\"schema\"][\"type\"]}' for parameter in parameters])).replace('array', '[]').replace('integer', 'number')\n",
    "\n",
    "\n",
    "def server2client(data_paths: dict) -> str:\n",
    "    api = \"\"\n",
    "    for api_path, information in data_paths.items():\n",
    "        # path name & parameters\n",
    "        api_path = get_api_path(api_path)\n",
    "        print(api_path)\n",
    "    #     # mathod & all data\n",
    "    #     for method, api_data in information.items():\n",
    "    #         # fucntion name (use summary)\n",
    "    #         summary: str = api_data['summary']\n",
    "    #         api_name_lists: list[str] = summary.split()\n",
    "    #         api_name = api_name_lists[0].lower(\n",
    "    #         ) + ''.join([name.capitalize() for name in api_name_lists[1:]])\n",
    "    #         # request body & parameters & path name (fucntion input...)\n",
    "    #         api_body = ''\n",
    "    #         api_parameters = get_api_parameters(api_data['parameters'])\n",
    "    #         if api_data.get('requestBody'):\n",
    "    #             api_schemas = api_data['requestBody']['content']['application/json']['schema']['$ref'].split(\n",
    "    #                 '/')[-1]\n",
    "    #             api_body = '\\n\\t\\tbody: JSON.stringify(data)' if len(\n",
    "    #                 api_schemas) != 0 else ''\n",
    "    #             api_parameters = (' ,' if len(api_parameters)\n",
    "    #                               else '') + api_parameters\n",
    "    #             api_name += f'(data: {api_schemas} {api_parameters})'\n",
    "    #         else:\n",
    "    #             api_name += f'({api_parameters})'\n",
    "\n",
    "    #         # responses type\n",
    "    #         if api_data['responses']['200'].get('content'):\n",
    "    #             api_responses = api_data['responses']['200']['content']['application/json']['schema']['$ref'].split(\n",
    "    #                 '/')[-1]\n",
    "    #             # for typescript\n",
    "    #             api_name += f': Promise<{api_responses}>'\n",
    "    #         # download file use apiFile fucntion (use path name to check)\n",
    "    #         api += (temp_api % (api_name, api_path, method.upper(),\n",
    "    #                 api_body, 'api' if 'download' not in api_name else 'apiFile'))\n",
    "    # return temp_header+api\n",
    "api = server2client(data_paths := data_dict['paths'])\n",
    "api\n"
   ]
  },
  {
   "cell_type": "code",
   "execution_count": null,
   "metadata": {},
   "outputs": [],
   "source": []
  }
 ],
 "metadata": {
  "kernelspec": {
   "display_name": "Python 3",
   "language": "python",
   "name": "python3"
  },
  "language_info": {
   "codemirror_mode": {
    "name": "ipython",
    "version": 3
   },
   "file_extension": ".py",
   "mimetype": "text/x-python",
   "name": "python",
   "nbconvert_exporter": "python",
   "pygments_lexer": "ipython3",
   "version": "3.10.12"
  }
 },
 "nbformat": 4,
 "nbformat_minor": 2
}
